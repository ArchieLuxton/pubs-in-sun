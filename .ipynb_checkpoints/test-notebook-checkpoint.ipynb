{
 "cells": [
  {
   "cell_type": "code",
   "execution_count": 1,
   "id": "4a0f67a9",
   "metadata": {},
   "outputs": [
    {
     "ename": "ModuleNotFoundError",
     "evalue": "No module named 'cartopy'",
     "output_type": "error",
     "traceback": [
      "\u001b[1;31m---------------------------------------------------------------------------\u001b[0m",
      "\u001b[1;31mModuleNotFoundError\u001b[0m                       Traceback (most recent call last)",
      "Cell \u001b[1;32mIn [1], line 1\u001b[0m\n\u001b[1;32m----> 1\u001b[0m \u001b[38;5;28;01mfrom\u001b[39;00m \u001b[38;5;21;01mutils\u001b[39;00m \u001b[38;5;28;01mimport\u001b[39;00m \u001b[38;5;241m*\u001b[39m\n\u001b[0;32m      2\u001b[0m \u001b[38;5;28;01mimport\u001b[39;00m \u001b[38;5;21;01mnumpy\u001b[39;00m \u001b[38;5;28;01mas\u001b[39;00m \u001b[38;5;21;01mnp\u001b[39;00m\n\u001b[0;32m      3\u001b[0m \u001b[38;5;28;01mimport\u001b[39;00m \u001b[38;5;21;01mtime\u001b[39;00m\n",
      "File \u001b[1;32m~\\Documents\\pubs-in-sun\\utils.py:3\u001b[0m\n\u001b[0;32m      1\u001b[0m \u001b[38;5;28;01mimport\u001b[39;00m \u001b[38;5;21;01mrequests\u001b[39;00m\n\u001b[0;32m      2\u001b[0m \u001b[38;5;28;01mimport\u001b[39;00m \u001b[38;5;21;01mmath\u001b[39;00m\n\u001b[1;32m----> 3\u001b[0m \u001b[38;5;28;01mimport\u001b[39;00m \u001b[38;5;21;01mcartopy\u001b[39;00m\u001b[38;5;21;01m.\u001b[39;00m\u001b[38;5;21;01mcrs\u001b[39;00m \u001b[38;5;28;01mas\u001b[39;00m \u001b[38;5;21;01mccrs\u001b[39;00m\n\u001b[0;32m      4\u001b[0m \u001b[38;5;28;01mimport\u001b[39;00m \u001b[38;5;21;01mmatplotlib\u001b[39;00m\u001b[38;5;21;01m.\u001b[39;00m\u001b[38;5;21;01mpyplot\u001b[39;00m \u001b[38;5;28;01mas\u001b[39;00m \u001b[38;5;21;01mplt\u001b[39;00m\n\u001b[0;32m      5\u001b[0m \u001b[38;5;28;01mimport\u001b[39;00m \u001b[38;5;21;01mnumpy\u001b[39;00m \u001b[38;5;28;01mas\u001b[39;00m \u001b[38;5;21;01mnp\u001b[39;00m\n",
      "\u001b[1;31mModuleNotFoundError\u001b[0m: No module named 'cartopy'"
     ]
    }
   ],
   "source": [
    "from utils import *\n",
    "import numpy as np\n",
    "import time\n",
    "import pprint\n",
    "import plotly.io as pio\n",
    "import plotly.offline as pyo\n",
    "from matplotlib import pyplot as plt\n",
    "import geopandas as gpd\n",
    "from shapely.geometry import Polygon\n",
    "from shapely.ops import unary_union\n",
    "pyo.init_notebook_mode(connected=True)\n",
    "np.set_printoptions(suppress=True)\n",
    "#pio.renderers.default = 'browser'\n",
    "pp = pprint.PrettyPrinter(indent=4)"
   ]
  },
  {
   "cell_type": "code",
   "execution_count": null,
   "id": "6617161a",
   "metadata": {},
   "outputs": [],
   "source": [
    "# Set the latitude and longitude of the center point\n",
    "lat = 51.5074\n",
    "lon = 0.1278\n",
    "radius = 300"
   ]
  },
  {
   "cell_type": "code",
   "execution_count": null,
   "id": "8c73a582",
   "metadata": {},
   "outputs": [],
   "source": [
    "# Find all the buildings in the given search location\n",
    "data = find_buildings(lat, lon, radius)"
   ]
  },
  {
   "cell_type": "code",
   "execution_count": null,
   "id": "26ca60f5",
   "metadata": {},
   "outputs": [],
   "source": [
    "# Populate the dict 'buildings' with all the relevant data\n",
    "buildings = populate_buildings(data)\n",
    "#pp.pprint(buildings)"
   ]
  },
  {
   "cell_type": "code",
   "execution_count": null,
   "id": "a1c1cada",
   "metadata": {},
   "outputs": [],
   "source": [
    "# Convert the node numbers to latitude and longitude coordinates (slow!)\n",
    "buildings = convert_node_to_coords(buildings, plot=False)"
   ]
  },
  {
   "cell_type": "code",
   "execution_count": null,
   "id": "12a8cc36",
   "metadata": {},
   "outputs": [],
   "source": []
  },
  {
   "cell_type": "code",
   "execution_count": null,
   "id": "22564c3e",
   "metadata": {},
   "outputs": [],
   "source": [
    "# Create a list of building instances that we can work with\n",
    "bN = [building(building_from_ind(buildings, i)[1]) for i in range(len(buildings))]\n",
    "\n",
    "t1 = building_from_ind(buildings, 0)[0]"
   ]
  },
  {
   "cell_type": "code",
   "execution_count": null,
   "id": "82d8ffc9",
   "metadata": {},
   "outputs": [],
   "source": [
    "# Calculate the sun's vector \n",
    "sunpath = calc_sunvector(t1, (2022, 6, 21, 12, 0, 0, 0))\n",
    "\n",
    "bN = [building(building_from_ind(buildings, i)[1]) for i in range(len(buildings))]\n",
    "\n",
    "start = time.time()\n",
    "calculate_shadows(bN, sunpath)\n",
    "end = time.time()\n",
    "\n",
    "print(f\"Finished calculating shadows! Time taken: {end-start}s\")\n",
    "\n",
    "shad = [pd.DataFrame(b.overall_shadow_poly,columns=[\"lat\", \"lon\", \"height\"])/111139  for b in bN]\n",
    "\n",
    "plotly_buildings(buildings, shad, zoom=15)"
   ]
  },
  {
   "cell_type": "code",
   "execution_count": null,
   "id": "660a0602",
   "metadata": {},
   "outputs": [],
   "source": []
  },
  {
   "cell_type": "code",
   "execution_count": null,
   "id": "bfb4ce76",
   "metadata": {
    "scrolled": false
   },
   "outputs": [],
   "source": [
    "%matplotlib notebook\n",
    "    \n",
    "plot_rays_vertices(bN, s=50, figsize=(10,10), extent_offset=50)"
   ]
  },
  {
   "cell_type": "code",
   "execution_count": null,
   "id": "8771312c",
   "metadata": {},
   "outputs": [],
   "source": []
  },
  {
   "cell_type": "code",
   "execution_count": null,
   "id": "894d1d27",
   "metadata": {},
   "outputs": [],
   "source": [
    "# Visualise the buildings that have been captured\n",
    "plotly_buildings(buildings)"
   ]
  },
  {
   "cell_type": "code",
   "execution_count": null,
   "id": "7d105445",
   "metadata": {},
   "outputs": [],
   "source": [
    "def combine_shadow_polys(b):\n",
    "    # Create Polygons for each face that's projected onto the floor\n",
    "    polys = [Polygon([tuple(point) for point in s]) for s in b.shadow_polys]\n",
    "\n",
    "    # Merge the Polygons together\n",
    "    mergedPolys = unary_union(polys)\n",
    "\n",
    "    # Extract the outline of the new Polygon\n",
    "    xx, yy = mergedPolys.exterior.coords.xy\n",
    "    xx = xx.tolist()\n",
    "    yy = yy.tolist()\n",
    "\n",
    "    #gpd.GeoSeries([mergedPolys]).boundary.plot()\n",
    "    #plt.show()\n",
    "    #mergedPolys = unary_union(polys)\n",
    "    \n",
    "    return np.array([xx, yy]).reshape(2,-1).T\n",
    "    \n",
    "    "
   ]
  },
  {
   "cell_type": "code",
   "execution_count": null,
   "id": "99573560",
   "metadata": {},
   "outputs": [],
   "source": [
    "def plot_rays_vertices(building,\n",
    "              s=50,\n",
    "              extent_offset=20,\n",
    "              figsize=(15,15)):\n",
    "\n",
    "    fig = plt.figure(figsize=figsize)\n",
    "    ax = fig.add_subplot(111, projection='3d')\n",
    "    \n",
    "    def plot_polys(building):\n",
    "        shadow_poly = Poly3DCollection([[tuple(point) for point in building.overall_shadow_poly]], alpha=0.2, color=\"black\")\n",
    "        ax.add_collection3d(shadow_poly)\n",
    "\n",
    "        for i, face in enumerate(building.faces):\n",
    "            vertices = [[tuple(v) for v in face]]\n",
    "            poly = Poly3DCollection(vertices, alpha=0.8)\n",
    "            ax.add_collection3d(poly)\n",
    "\n",
    "    if isinstance(building, list):\n",
    "        for b in building:\n",
    "            plot_polys(b)\n",
    "        all_faces = np.concatenate(np.array([np.concatenate(np.array(b.faces), dtype=object) for b in building]))\n",
    "    else:\n",
    "        plot_polys(building)\n",
    "        all_faces = np.concatenate(np.array(b.faces), dtype=object)\n",
    "    \n",
    "    mins = all_faces.min(axis=0)\n",
    "    maxs = all_faces.max(axis=0)\n",
    "    \n",
    "    ax.set_xlim(mins[0]-extent_offset,maxs[0]+extent_offset)\n",
    "    ax.set_ylim(mins[1]-extent_offset,maxs[1]+extent_offset)\n",
    "    ax.set_zlim(mins[2]-extent_offset,maxs[2]+extent_offset) "
   ]
  },
  {
   "cell_type": "code",
   "execution_count": null,
   "id": "7ce773e2",
   "metadata": {},
   "outputs": [],
   "source": [
    "def calculate_shadows(bN):\n",
    "    for b in bN:\n",
    "        b.collision_coords = []\n",
    "        b.shadow_coords = []\n",
    "        b.origin_coords = []\n",
    "        b.sunny_coords = []  \n",
    "        b.shadow_con_hull = []\n",
    "        b.shadow_polys = []\n",
    "\n",
    "        for face in b.faces:\n",
    "            shadow_coords = []\n",
    "            for i, O in enumerate(face):\n",
    "                ground_level = 0\n",
    "                L = (ground_level-O[2])/sunpath[2]  # How many sunpaths do we need to move before we hit the ground?\n",
    "                D = O + L*sunpath\n",
    "                b.collision_coords.append(O)\n",
    "                shadow_coords.append(D)\n",
    "                b.origin_coords.append(O)\n",
    "                b.sunny_coords.append([])\n",
    "\n",
    "            shadow = np.array(shadow_coords)\n",
    "            b.shadow_polys.append(shadow)\n",
    "\n",
    "            b.overall_shadow_poly = combine_shadow_polys(b)\n",
    "\n",
    "            removed_coord = np.full(len(b.overall_shadow_poly),0)\n",
    "            b.overall_shadow_poly = np.column_stack((b.overall_shadow_poly, removed_coord))"
   ]
  },
  {
   "cell_type": "code",
   "execution_count": null,
   "id": "0f05ad5b",
   "metadata": {
    "scrolled": false
   },
   "outputs": [],
   "source": []
  },
  {
   "cell_type": "code",
   "execution_count": null,
   "id": "0ad9604f",
   "metadata": {},
   "outputs": [],
   "source": [
    "# Populate the building_collection class with all the buildings that have been found\n",
    "bN = [building(building_from_ind(buildings, i)[1]) for i in range(len(buildings))]\n",
    "bN = building_collection(bN)\n",
    "\n",
    "# Populate a DataFrame with all the relevant info from the buildings being plotted\n",
    "tN = pd.concat([building_from_ind(buildings, i)[0] for i in range(len(buildings))])\n",
    "\n",
    "b1 = building(building_from_ind(buildings, 0)[1])\n",
    "t1 = building_from_ind(buildings, 0)[0]"
   ]
  },
  {
   "cell_type": "code",
   "execution_count": null,
   "id": "bfb91f98",
   "metadata": {},
   "outputs": [],
   "source": [
    "# Costruct the array of rays\n",
    "O, D = construct_rays(t1,\n",
    "                      sunpath,\n",
    "                      offset_lower=[20, 8],\n",
    "                      offset_upper=[8, 35],\n",
    "                      di=1,\n",
    "                      dj=1,\n",
    "                      z=0)"
   ]
  },
  {
   "cell_type": "code",
   "execution_count": null,
   "id": "45332406",
   "metadata": {
    "scrolled": false
   },
   "outputs": [],
   "source": [
    "start = time.time()\n",
    "calculate_rays(b1, O, D)\n",
    "end = time.time()\n",
    "print(f\"Time taken for method 1: {end-start}\")"
   ]
  },
  {
   "cell_type": "code",
   "execution_count": null,
   "id": "27ec226e",
   "metadata": {
    "scrolled": false
   },
   "outputs": [],
   "source": [
    "# Visualise the scene in 3D\n",
    "\n",
    "plot_rays(b1, O, D, plot_ray=False, plot_shadow=True,s=0.5, figsize=(5,5), extent_offset=25)\n"
   ]
  },
  {
   "cell_type": "code",
   "execution_count": null,
   "id": "36fb7af5",
   "metadata": {},
   "outputs": [],
   "source": []
  },
  {
   "cell_type": "code",
   "execution_count": null,
   "id": "76ef6b5f",
   "metadata": {},
   "outputs": [],
   "source": [
    "\n",
    "b.collision_coords = []\n",
    "b.shadow_coords = []\n",
    "b.origin_coords = []\n",
    "b.sunny_coords = []  \n",
    "b.shadow_con_hull = []\n",
    "\n",
    "for i, O in enumerate(b.unique_vertices):\n",
    "    ground_level = 0\n",
    "    L = (ground_level-O[2])/sunpath[2]  # How many sunpaths do we need to move before we hit the ground?\n",
    "    D = O + L*sunpath\n",
    "    b.collision_coords.append(O)\n",
    "    b.shadow_coords.append(D)\n",
    "    b.origin_coords.append(O)\n",
    "    b.sunny_coords.append([])\n",
    "    \n",
    "shadow = np.array(b.shadow_coords.copy())\n",
    "\n",
    "redundant_dim = np.where(np.all(shadow == shadow[0,:], axis=0)==True)[0]\n",
    "if len(redundant_dim) > 0:\n",
    "    # Then one component can be totally removed from this vert - otherwise will break convex hull \n",
    "    shadow = np.delete(shadow, redundant_dim, axis=1)\n",
    "else:\n",
    "    print(f\"Shape is not flat! Forcing anyway\")\n",
    "    redundant_dim = 2\n",
    "    shadow = np.delete(shadow, redundant_dim, axis=1)\n",
    "    \n",
    "\n",
    "hull = ConvexHull(shadow)\n",
    "hull_points = hull.simplices \n",
    "\n",
    "hull_points = shadow[hull.vertices]\n",
    "\n",
    "# Find which specific coordinate was found to be redundant and removed from all coordinates\n",
    "#removed_coord = np.full(len(hull_points),np.array(b.shadow_coords)[0][redundant_dim][0])\n",
    "\n",
    "removed_coord = np.full(len(hull_points),0)\n",
    "\n",
    "# Add it back in to the hull points\n",
    "hull_points = np.column_stack((hull_points, removed_coord))\n",
    "hull_points = [[tuple(point) for point in hull_points]]\n",
    "\n",
    "b.shadow_con_hull = hull_points\n",
    "b.shadow_coords = np.array(b.shadow_coords)\n",
    "\n",
    "plot_rays_vertices(b, s=50, figsize=(5,5), extent_offset=20)"
   ]
  },
  {
   "cell_type": "code",
   "execution_count": null,
   "id": "92f912dd",
   "metadata": {
    "scrolled": false
   },
   "outputs": [],
   "source": [
    "%matplotlib notebook\n",
    "\n",
    "b = building(building_from_ind(buildings, 0)[1])\n",
    "\n",
    "b.unique_vertices = pd.DataFrame(np.concatenate(b.faces)).drop_duplicates().reset_index(drop=True).to_numpy()\n",
    "\n",
    "N = 10\n",
    "\n",
    "for face in b.faces:\n",
    "    for i in range(0, len(face)-1):\n",
    "        start = face[i]\n",
    "        end = face[i+1]\n",
    "        midpoints = np.linspace(start, end, N)\n",
    "        b.unique_vertices = np.concatenate((b.unique_vertices, midpoints))\n",
    "        #print(f\"{b.unique_vertices}\\n\\n\")"
   ]
  },
  {
   "cell_type": "code",
   "execution_count": null,
   "id": "d39ee237",
   "metadata": {},
   "outputs": [],
   "source": [
    "from scipy.spatial import Delaunay\n",
    "def alpha_shape(points, alpha, only_outer=True):\n",
    "    \"\"\"\n",
    "    Compute the alpha shape (concave hull) of a set of points.\n",
    "    :param points: np.array of shape (n,2) points.\n",
    "    :param alpha: alpha value.\n",
    "    :param only_outer: boolean value to specify if we keep only the outer border\n",
    "    or also inner edges.\n",
    "    :return: set of (i,j) pairs representing edges of the alpha-shape. (i,j) are\n",
    "    the indices in the points array.\n",
    "    \"\"\"\n",
    "    assert points.shape[0] > 3, \"Need at least four points\"\n",
    "    def add_edge(edges, i, j):\n",
    "        \"\"\"\n",
    "        Add an edge between the i-th and j-th points,\n",
    "        if not in the list already\n",
    "        \"\"\"\n",
    "        if (i, j) in edges or (j, i) in edges:\n",
    "            # already added\n",
    "            assert (j, i) in edges, \"Can't go twice over same directed edge right?\"\n",
    "            if only_outer:\n",
    "                # if both neighboring triangles are in shape, it's not a boundary edge\n",
    "                edges.remove((j, i))\n",
    "            return\n",
    "        edges.add((i, j))\n",
    "    tri = Delaunay(points)\n",
    "    edges = set()\n",
    "    # Loop over triangles:\n",
    "    # ia, ib, ic = indices of corner points of the triangle\n",
    "    for ia, ib, ic in tri.vertices:\n",
    "        pa = points[ia]\n",
    "        pb = points[ib]\n",
    "        pc = points[ic]\n",
    "        # Computing radius of triangle circumcircle\n",
    "        # www.mathalino.com/reviewer/derivation-of-formulas/derivation-of-formula-for-radius-of-circumcircle\n",
    "        a = np.sqrt((pa[0] - pb[0]) ** 2 + (pa[1] - pb[1]) ** 2)\n",
    "        b = np.sqrt((pb[0] - pc[0]) ** 2 + (pb[1] - pc[1]) ** 2)\n",
    "        c = np.sqrt((pc[0] - pa[0]) ** 2 + (pc[1] - pa[1]) ** 2)\n",
    "        s = (a + b + c) / 2.0\n",
    "        area = np.sqrt(s * (s - a) * (s - b) * (s - c))\n",
    "        circum_r = a * b * c / (4.0 * area)\n",
    "        if circum_r < alpha:\n",
    "            add_edge(edges, ia, ib)\n",
    "            add_edge(edges, ib, ic)\n",
    "            add_edge(edges, ic, ia)\n",
    "    return edges"
   ]
  },
  {
   "cell_type": "code",
   "execution_count": null,
   "id": "9c8f5ded",
   "metadata": {
    "scrolled": false
   },
   "outputs": [],
   "source": [
    "edges = alpha_shape(shadow, alpha=2)\n",
    "\n",
    "fig, ax = plt.subplots(figsize=(18,4))\n",
    "plt.subplot(1, 3, 1)\n",
    "plt.plot(shadow[:, 0], shadow[:, 1], '.')\n",
    "for i, j in edges:\n",
    "    plt.plot(shadow[[i, j], 0], shadow[[i, j], 1])\n",
    "\n",
    "plt.text(270.5,459, \"alpha=1\", size=18)\n"
   ]
  },
  {
   "cell_type": "code",
   "execution_count": null,
   "id": "78e957f0",
   "metadata": {},
   "outputs": [],
   "source": []
  },
  {
   "cell_type": "code",
   "execution_count": null,
   "id": "b47bdbf5",
   "metadata": {},
   "outputs": [],
   "source": [
    "from descartes import PolygonPatch\n",
    "import alphashape\n",
    "\n",
    "points = [(17, 158),(15, 135),(38, 183),(43, 19),(93, 88),(96, 140),(149, 163),(128, 248),(216, 265),(248, 210),(223, 167),(256, 151),(331, 214),(340, 187),(316, 53),(298, 35),(182, 0),(121, 42)]\n",
    "points = [tuple(s) for s in shadow]\n",
    "\n",
    "alpha = 0.2#0.95 * alphashape.optimizealpha(points)\n",
    "hull = alphashape.alphashape(points, alpha)\n",
    "hull_pts = hull.exterior.coords.xy\n",
    "    \n",
    "fig, ax = plt.subplots()\n",
    "ax.scatter(hull_pts[0], hull_pts[1], color='red')\n",
    "ax.add_patch(PolygonPatch(hull, fill=False, color='green'))\n",
    "ax.plot(shadow[:,0], shadow[:,1], 'o')"
   ]
  }
 ],
 "metadata": {
  "kernelspec": {
   "display_name": "Python 3 (ipykernel)",
   "language": "python",
   "name": "python3"
  },
  "language_info": {
   "codemirror_mode": {
    "name": "ipython",
    "version": 3
   },
   "file_extension": ".py",
   "mimetype": "text/x-python",
   "name": "python",
   "nbconvert_exporter": "python",
   "pygments_lexer": "ipython3",
   "version": "3.9.15"
  }
 },
 "nbformat": 4,
 "nbformat_minor": 5
}
